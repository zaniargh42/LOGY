{
 "cells": [
  {
   "cell_type": "code",
   "execution_count": 1,
   "metadata": {},
   "outputs": [],
   "source": [
    "import os\n",
    "import json\n",
    "import shutil\n",
    "from datetime import datetime\n",
    "import tkinter as tk\n",
    "import tkinter.font as font\n",
    "from tkinter import messagebox\n",
    "from tkinter.filedialog import askopenfilename \n",
    "from random import random"
   ]
  },
  {
   "cell_type": "code",
   "execution_count": 3,
   "metadata": {},
   "outputs": [
    {
     "name": "stderr",
     "output_type": "stream",
     "text": [
      "Exception in Tkinter callback\n",
      "Traceback (most recent call last):\n",
      "  File \"/usr/lib/python3.10/tkinter/__init__.py\", line 1921, in __call__\n",
      "    return self.func(*args)\n",
      "  File \"/tmp/ipykernel_14379/1114487552.py\", line 15, in _save\n",
      "    info={'text':str(inputtxt.get('1.0','END'))}\n",
      "  File \"/usr/lib/python3.10/tkinter/__init__.py\", line 3740, in get\n",
      "    return self.tk.call(self._w, 'get', index1, index2)\n",
      "_tkinter.TclError: bad text index \"END\"\n"
     ]
    }
   ],
   "source": [
    "def _LOGY():    \n",
    "    LOGY=tk.Tk()\n",
    "    LOGY.title('LOG YOURSELF')\n",
    "    #the size and location of the window\n",
    "    LOGY.geometry('725x450+270+70')\n",
    "    LOGY.resizable(False,False)\n",
    "    colors=['34568B','FF6F61','6B5B95','88B04B','F7CAC9','becda6']\n",
    "    LOGY.configure(bg='#'+colors[int(random()*len(colors))])\n",
    "\n",
    "    tk.Label(LOGY, text=f\"{str(datetime.now())[:-10]}\").place(x=300,y=50)\n",
    "\n",
    "    inputtxt = tk.Text(LOGY,height = 12,width = 50)\n",
    "    inputtxt.place(x=725/5,y=100)\n",
    "    def _save():\n",
    "        info={'text':str(inputtxt.get('1.0'))}\n",
    "        with open(str(datetime.now())[:-13]+'.json', 'w') as json_file:\n",
    "            json.dump(info, json_file)\n",
    "        LOGY.destroy()\n",
    "    tk.Button(LOGY, text =\"save\", command=_save ,\n",
    "       width=15, height=2, font=font.Font(size=10,weight='bold'),bg='white').place(x=100,y=350)\n",
    "    LOGY.mainloop()\n",
    "\n",
    "_LOGY()"
   ]
  },
  {
   "cell_type": "code",
   "execution_count": null,
   "metadata": {},
   "outputs": [],
   "source": []
  }
 ],
 "metadata": {
  "kernelspec": {
   "display_name": "Python 3",
   "language": "python",
   "name": "python3"
  },
  "language_info": {
   "codemirror_mode": {
    "name": "ipython",
    "version": 3
   },
   "file_extension": ".py",
   "mimetype": "text/x-python",
   "name": "python",
   "nbconvert_exporter": "python",
   "pygments_lexer": "ipython3",
   "version": "3.10.6"
  },
  "orig_nbformat": 4,
  "vscode": {
   "interpreter": {
    "hash": "916dbcbb3f70747c44a77c7bcd40155683ae19c65e1c03b4aa3499c5328201f1"
   }
  }
 },
 "nbformat": 4,
 "nbformat_minor": 2
}
